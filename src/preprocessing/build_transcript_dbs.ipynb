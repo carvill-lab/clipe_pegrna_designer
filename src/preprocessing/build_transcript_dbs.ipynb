{
 "cells": [
  {
   "cell_type": "code",
   "execution_count": null,
   "metadata": {},
   "outputs": [],
   "source": [
    "import pandas as pd\n",
    "from pathlib import Path\n",
    "from tqdm import tqdm\n",
    "from gtfparse import read_gtf\n",
    "\n",
    "pd.options.mode.copy_on_write = True\n"
   ]
  },
  {
   "cell_type": "code",
   "execution_count": null,
   "metadata": {},
   "outputs": [
    {
     "name": "stderr",
     "output_type": "stream",
     "text": [
      "INFO:root:Extracted GTF attributes: ['gene_id', 'transcript_id', 'db_xref', 'description', 'gbkey', 'gene', 'gene_biotype', 'pseudo', 'product', 'transcript_biotype', 'exon_number', 'gene_synonym', 'model_evidence', 'tag', 'protein_id', 'experiment', 'inference', 'note', 'part', 'exception', 'isoform', 'anticodon', 'partial', 'The', 'transl_except', 'non-AUG', 'standard_name', 'deleted', 'source', 'similar', 'substituted', 'transferase', 'codons', '12S', '16S', 'transl_table', 'ATPase']\n"
     ]
    },
    {
     "name": "stdout",
     "output_type": "stream",
     "text": [
      "shape: (4_697_665, 44)\n",
      "┌──────────────┬────────┬────────────┬───────┬───┬─────┬─────┬──────────────┬────────┐\n",
      "│ seqname      ┆ source ┆ feature    ┆ start ┆ … ┆ 12S ┆ 16S ┆ transl_table ┆ ATPase │\n",
      "│ ---          ┆ ---    ┆ ---        ┆ ---   ┆   ┆ --- ┆ --- ┆ ---          ┆ ---    │\n",
      "│ cat          ┆ str    ┆ cat        ┆ i64   ┆   ┆ str ┆ str ┆ str          ┆ str    │\n",
      "╞══════════════╪════════╪════════════╪═══════╪═══╪═════╪═════╪══════════════╪════════╡\n",
      "│ NC_000001.11 ┆        ┆ gene       ┆ 11874 ┆ … ┆     ┆     ┆              ┆        │\n",
      "│ NC_000001.11 ┆        ┆ transcript ┆ 11874 ┆ … ┆     ┆     ┆              ┆        │\n",
      "│ NC_000001.11 ┆        ┆ exon       ┆ 11874 ┆ … ┆     ┆     ┆              ┆        │\n",
      "│ NC_000001.11 ┆        ┆ exon       ┆ 12613 ┆ … ┆     ┆     ┆              ┆        │\n",
      "│ NC_000001.11 ┆        ┆ exon       ┆ 13221 ┆ … ┆     ┆     ┆              ┆        │\n",
      "│ …            ┆ …      ┆ …          ┆ …     ┆ … ┆ …   ┆ …   ┆ …            ┆ …      │\n",
      "│ NC_012920.1  ┆        ┆ transcript ┆ 15888 ┆ … ┆     ┆     ┆              ┆        │\n",
      "│ NC_012920.1  ┆        ┆ exon       ┆ 15888 ┆ … ┆     ┆     ┆              ┆        │\n",
      "│ NC_012920.1  ┆        ┆ gene       ┆ 15956 ┆ … ┆     ┆     ┆              ┆        │\n",
      "│ NC_012920.1  ┆        ┆ transcript ┆ 15956 ┆ … ┆     ┆     ┆              ┆        │\n",
      "│ NC_012920.1  ┆        ┆ exon       ┆ 15956 ┆ … ┆     ┆     ┆              ┆        │\n",
      "└──────────────┴────────┴────────────┴───────┴───┴─────┴─────┴──────────────┴────────┘\n"
     ]
    }
   ],
   "source": [
    "\n",
    "# download hg38 gtf from https://www.ncbi.nlm.nih.gov/datasets/taxonomy/9606/\n",
    "# read in gtf file\n",
    "gtf_df = read_gtf(\"./genome_files/hg38.gtf.gz\")\n",
    "print(gtf_df)\n",
    "\n"
   ]
  },
  {
   "cell_type": "code",
   "execution_count": 11,
   "metadata": {},
   "outputs": [
    {
     "name": "stdout",
     "output_type": "stream",
     "text": [
      "(201190,)\n",
      "(145439,)\n"
     ]
    }
   ],
   "source": [
    "# keep only relevant columns for transcripts\n",
    "gtf_df2 = gtf_df[['gene_id', 'transcript_id', 'feature', 'start', 'end', 'tag', 'strand', 'exon_number']]\n",
    "gtf_df2 = pd.DataFrame(gtf_df2)\n",
    "gtf_df2.columns = ['gene_id', 'transcript_id', 'feature', 'start', 'end', 'tag', 'strand', 'exon_number']\n",
    "\n",
    "# keep only transcripts that have a cds entry\n",
    "print(gtf_df2['transcript_id'].unique().shape)\n",
    "\n",
    "gtf_tx = gtf_df2[(gtf_df2['feature'] == 'CDS')]\n",
    "gtf_tx = gtf_tx.drop(columns=['feature'])\n",
    "gtf_tx = gtf_tx.drop_duplicates(\"transcript_id\")\n",
    "print(gtf_tx['transcript_id'].unique().shape)\n",
    "gtf_tx['MANE'] = gtf_tx.apply(lambda x: -1 if \"MANE\" in x['tag'] else 0, axis=1)\n",
    "gtf_tx['transcript_id'] = gtf_tx.apply(lambda x: x['transcript_id'] + \" (MANE)\" if x['MANE'] == -1 else x['transcript_id'], axis=1)\n",
    "\n",
    "# keep minimal data in csvs\n",
    "# sort by transcript id\n",
    "gtf_tx = gtf_tx.sort_values(['gene_id', 'MANE', \"transcript_id\"])\n",
    "# group by gene id and turn transcript ids into a list\n",
    "gtf_tx_prnt = gtf_tx.groupby(\"gene_id\").agg({\"transcript_id\": list}).reset_index()\n",
    "gtf_tx_prnt.to_csv(\"./genome_files/hg38_transcripts.tsv\", sep=\"\\t\", index=False)\n"
   ]
  },
  {
   "cell_type": "code",
   "execution_count": 12,
   "metadata": {},
   "outputs": [
    {
     "name": "stderr",
     "output_type": "stream",
     "text": [
      "/var/folders/8t/jvwbzxms38jbwn2nzqw93d0r0000gn/T/ipykernel_94865/2320548311.py:8: DeprecationWarning: DataFrameGroupBy.apply operated on the grouping columns. This behavior is deprecated, and in a future version of pandas the grouping columns will be excluded from the operation. Either pass `include_groups=False` to exclude the groupings or explicitly select the grouping columns after groupby to silence this warning.\n",
      "  coding_coords = transcripts_with_codons.groupby('transcript_id').apply(lambda x: {\n"
     ]
    }
   ],
   "source": [
    "\n",
    "# create df with transcript id and start stop coords\n",
    "gtf_coords = gtf_df2\n",
    "\n",
    "# Filter for transcripts with start and stop codons or exons\n",
    "transcripts_with_codons = gtf_coords[(gtf_coords['feature'] == 'CDS')]\n",
    "\n",
    "# Group by transcript_id and aggregate the necessary information\n",
    "coding_coords = transcripts_with_codons.groupby('transcript_id').apply(lambda x: {\n",
    "    'transcript_id': x['transcript_id'].iloc[0],\n",
    "    #'strand': x['strand'].iloc[0],\n",
    "    'cds_lengths': list((x[x['feature'] == 'CDS']['end'].astype(int) - x[x['feature'] == 'CDS']['start'].astype(int) + 1)),\n",
    "    'cds_exons': list(x[x['feature'] == 'CDS']['exon_number'].astype(int)),\n",
    "\n",
    "}).tolist()\n",
    "\n",
    "coding_coords_df = pd.DataFrame(coding_coords)\n",
    "coding_coords_df.to_csv(\"./genome_files/hg38_transcript_coords.tsv\", sep=\"\\t\", index=False)"
   ]
  }
 ],
 "metadata": {
  "kernelspec": {
   "display_name": "carvill",
   "language": "python",
   "name": "python3"
  },
  "language_info": {
   "codemirror_mode": {
    "name": "ipython",
    "version": 3
   },
   "file_extension": ".py",
   "mimetype": "text/x-python",
   "name": "python",
   "nbconvert_exporter": "python",
   "pygments_lexer": "ipython3",
   "version": "3.11.9"
  }
 },
 "nbformat": 4,
 "nbformat_minor": 2
}
